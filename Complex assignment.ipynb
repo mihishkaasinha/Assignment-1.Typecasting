{
 "cells": [
  {
   "cell_type": "code",
   "execution_count": 1,
   "id": "2dc98793",
   "metadata": {},
   "outputs": [
    {
     "name": "stdout",
     "output_type": "stream",
     "text": [
      "(12+14j)\n",
      "<class 'complex'>\n",
      "1833766729264\n"
     ]
    }
   ],
   "source": [
    "#Declare a complex number and store it in a variable. \n",
    "a=12+14j\n",
    "print(a)\n",
    "\n",
    "#Check the type and print the id of the same.\n",
    "print(type(a))\n",
    "print(id(a))"
   ]
  },
  {
   "cell_type": "code",
   "execution_count": 2,
   "id": "fe0bbbc7",
   "metadata": {},
   "outputs": [],
   "source": [
    "#Arithmatic Operations on complex number\n",
    "#Take two different complex number.\n",
    "#Store them in two different variables.\n",
    "#Do below operations on them:-\n",
    "    #Find sum of both numbers\n",
    "    #Find differce between them\n",
    "    #Find the product of both numbers.\n",
    "    #Find value after dividing first num with second number\n",
    "    #Find the result of first num to the power of second number."
   ]
  },
  {
   "cell_type": "markdown",
   "id": "0169892d",
   "metadata": {},
   "source": [
    "When starting up, the Python interpreter generates objects for numbers in the -5, 256 range and reuses them throughout programme execution.Because of this, if you assign several variables to an integer value inside this range, they will really correspond to the same object."
   ]
  },
  {
   "cell_type": "code",
   "execution_count": 3,
   "id": "0aecc81b",
   "metadata": {},
   "outputs": [
    {
     "name": "stdout",
     "output_type": "stream",
     "text": [
      "(79+8j)\n",
      "(-33+5.800000000000001j)\n",
      "(1280.41+411.70000000000005j)\n",
      "(2.246908655763861-0.6262465097726366j)\n",
      "(8.293045952428795e+76+1.2061500242557705e+77j)\n"
     ]
    }
   ],
   "source": [
    "#Find sum of both numbers\n",
    "p=23+6.9j\n",
    "q= 56+1.1j\n",
    "print(p+q)\n",
    "\n",
    "#Find differce between them\n",
    "p=23+6.9j\n",
    "q= 56+1.1j\n",
    "print(p-q)\n",
    "\n",
    "#Find the product of both numbers.\n",
    "p=23+6.9j\n",
    "q= 56+1.1j\n",
    "print(p*q)\n",
    "\n",
    "#Find value after dividing first num with second number\n",
    "p=23+6.9j\n",
    "q= 56+1.1j\n",
    "print(q/p)\n",
    "\n",
    "#Find the result of first num to the power of second number.\n",
    "p=23+6.9j\n",
    "q= 56+1.1j\n",
    "print(p**q)"
   ]
  },
  {
   "cell_type": "code",
   "execution_count": 4,
   "id": "13cc8dad",
   "metadata": {},
   "outputs": [
    {
     "ename": "TypeError",
     "evalue": "'>' not supported between instances of 'complex' and 'complex'",
     "output_type": "error",
     "traceback": [
      "\u001b[1;31m---------------------------------------------------------------------------\u001b[0m",
      "\u001b[1;31mTypeError\u001b[0m                                 Traceback (most recent call last)",
      "Cell \u001b[1;32mIn[4], line 5\u001b[0m\n\u001b[0;32m      3\u001b[0m p\u001b[38;5;241m=\u001b[39m\u001b[38;5;241m23\u001b[39m\u001b[38;5;241m+\u001b[39m\u001b[38;5;241m6.9\u001b[39mj\n\u001b[0;32m      4\u001b[0m q\u001b[38;5;241m=\u001b[39m \u001b[38;5;241m56\u001b[39m\u001b[38;5;241m+\u001b[39m\u001b[38;5;241m1.1\u001b[39mj\n\u001b[1;32m----> 5\u001b[0m \u001b[38;5;28mprint\u001b[39m(\u001b[43mp\u001b[49m\u001b[38;5;241;43m>\u001b[39;49m\u001b[43mq\u001b[49m)\n",
      "\u001b[1;31mTypeError\u001b[0m: '>' not supported between instances of 'complex' and 'complex'"
     ]
    }
   ],
   "source": [
    "#Comparison Operation not applicable between instance of complex values\n",
    "#Object reusability concept is not applicable on complex numebr\n",
    "p=23+6.9j\n",
    "q= 56+1.1j\n",
    "print(p>q)"
   ]
  },
  {
   "cell_type": "code",
   "execution_count": null,
   "id": "7bd931aa",
   "metadata": {},
   "outputs": [],
   "source": [
    "#Equality Operator\n",
    "#Take two different complex numbers.\n",
    "#Store them in two different variables.\n",
    "#Equate them using equality operator (==, !=)\n",
    "p=23+6.9j\n",
    "q= 56+1.1j\n",
    "print(p==q)\n",
    "print(p!=q)\n",
    "\n",
    "#Observe the output(return type should be boolean)"
   ]
  },
  {
   "cell_type": "code",
   "execution_count": null,
   "id": "c8d7845f",
   "metadata": {},
   "outputs": [],
   "source": [
    "#Logical operators\n",
    "#Observe the output of below code\n",
    "#Cross check the output manually\n",
    "\n",
    "print(10+20j and 20+30j)    #20+30j    #----------------------------------------->Output is 20+30j\n",
    "print(0+0j and 20+30j)      #0+0j    #----------------------------------------->Output is 0j\n",
    "print(20+30j and 0+0j)      #0+0j   #----------------------------------------->Output is 0j\n",
    "print(0+0j and 0+0j)        #0+0j   #----------------------------------------->Output is 0j\n",
    "\n",
    "print(10+20j or 20+30j)     #10+20j   #----------------------------------------->Output is 10+20j\n",
    "print(0+0j or 20+30j)       #20+30j   #----------------------------------------->Output is 20+30j\n",
    "print(20+30j or 0+0j)       #20+30j  #----------------------------------------->Output is 20+30j\n",
    "print(0+0j or 0+0j)         #0+0j   #----------------------------------------->Output is 0j\n",
    "\n",
    "print(not 10+20j)           #False   #----------------------------------------->Output is False\n",
    "print(not 0+0j)             #True   #----------------------------------------->Output is True"
   ]
  },
  {
   "cell_type": "code",
   "execution_count": null,
   "id": "d0678d99",
   "metadata": {},
   "outputs": [],
   "source": [
    "#What is the output of expression inside print statement. Cross check before running the program.\n",
    "a = 10+20j\n",
    "b = 10+20j\n",
    "print(a is b)       #False   #True or False?\n",
    "print(a is not b)   #True   #True or False?"
   ]
  },
  {
   "cell_type": "code",
   "execution_count": null,
   "id": "72dade81",
   "metadata": {},
   "outputs": [],
   "source": [
    "#Membership operation\n",
    "#in, not in are two membership operators and it returns boolean value\n",
    "\n",
    "print('2.7' in 'Python2.7.8')                      #True\n",
    "print(10+20j in [10,10.20,10+20j,'Python'])        #True\n",
    "print(10+20j in (10,10.20,10+20j,'Python'))        #True\n",
    "print(30+40j in {1,20.30,30+40j})                  #True\n",
    "print(30+40j in {1:100, 2.3:200, 30+40j:300})      #True\n",
    "print(10 in range(20))                             #True"
   ]
  },
  {
   "cell_type": "markdown",
   "id": "f2545088",
   "metadata": {},
   "source": [
    "Name: Mihishkaa Sinha\n",
    "Contact no.: 6361960848"
   ]
  }
 ],
 "metadata": {
  "kernelspec": {
   "display_name": "Python 3 (ipykernel)",
   "language": "python",
   "name": "python3"
  },
  "language_info": {
   "codemirror_mode": {
    "name": "ipython",
    "version": 3
   },
   "file_extension": ".py",
   "mimetype": "text/x-python",
   "name": "python",
   "nbconvert_exporter": "python",
   "pygments_lexer": "ipython3",
   "version": "3.10.9"
  }
 },
 "nbformat": 4,
 "nbformat_minor": 5
}
