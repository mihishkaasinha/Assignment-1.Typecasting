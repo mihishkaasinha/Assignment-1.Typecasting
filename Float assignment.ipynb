{
 "cells": [
  {
   "cell_type": "code",
   "execution_count": 1,
   "id": "2dc98793",
   "metadata": {},
   "outputs": [
    {
     "name": "stdout",
     "output_type": "stream",
     "text": [
      "10.2\n",
      "<class 'float'>\n",
      "1814339620272\n"
     ]
    }
   ],
   "source": [
    "#Declare a float value and store it in a variable. \n",
    "num_f = 10.20\n",
    "\n",
    "#Check the type and print the id of the same.\n",
    "print(num_f)\n",
    "print(type(num_f))\n",
    "print(id(num_f))"
   ]
  },
  {
   "cell_type": "code",
   "execution_count": 2,
   "id": "fe0bbbc7",
   "metadata": {},
   "outputs": [
    {
     "name": "stdout",
     "output_type": "stream",
     "text": [
      "32.1\n",
      "-11.100000000000001\n",
      "226.8\n",
      "0.4861111111111111\n",
      "10.5\n",
      "0.0\n",
      "1.1420598396592306e+22\n"
     ]
    }
   ],
   "source": [
    "#Arithmatic Operations on float\n",
    "#Take two different float values.\n",
    "a = 10.5\n",
    "b = 21.6\n",
    "#Store them in two different variables.\n",
    "\n",
    "#Do below operations on them:-\n",
    "#Find sum of both numbers\n",
    "c = a+b\n",
    "print(c)\n",
    "\n",
    "#Find differce between them\n",
    "d = a-b\n",
    "print(d)\n",
    "\n",
    "#Find the product of both numbers.\n",
    "e = a*b\n",
    "print (e)\n",
    "\n",
    "#Find value after dividing first num with second number\n",
    "f = a/b\n",
    "print(f)\n",
    "\n",
    "#Find the remainder after dividing first number with second number\n",
    "g = a%b\n",
    "print(g)\n",
    "\n",
    "#Find the quotient after dividing first number with second number\n",
    "h = a // b\n",
    "print (h)\n",
    "\n",
    "#Find the result of first num to the power of second number.\n",
    "i = a**b\n",
    "print (i)"
   ]
  },
  {
   "cell_type": "markdown",
   "id": "0169892d",
   "metadata": {},
   "source": [
    "When starting up, the Python interpreter generates objects for numbers in the -5, 256 range and reuses them throughout programme execution.Because of this, if you assign several variables to an integer value inside this range, they will really correspond to the same object."
   ]
  },
  {
   "cell_type": "code",
   "execution_count": 3,
   "id": "0aecc81b",
   "metadata": {},
   "outputs": [
    {
     "name": "stdout",
     "output_type": "stream",
     "text": [
      "False\n",
      "True\n",
      "False\n",
      "True\n"
     ]
    }
   ],
   "source": [
    "#Comparison Operators on float\n",
    "#Take two different float values.\n",
    "#Store them in two different variables.\n",
    "a = 11.5\n",
    "b = 61.6\n",
    "#Do below operations on them:-\n",
    "    #Compare these two numbers with below operator:-\n",
    "        #Greater than, '>'\n",
    "print(a>b)\n",
    "\n",
    "        #Smaller than, '<'\n",
    "print(a<b)\n",
    "\n",
    "        #Greater than or equal to, '>='\n",
    "\n",
    "print(a>=b)\n",
    "        #Less than or equal to, '<='\n",
    "print(a<=b)\n",
    "#Observe their output(return type should be boolean)"
   ]
  },
  {
   "cell_type": "code",
   "execution_count": 4,
   "id": "13cc8dad",
   "metadata": {},
   "outputs": [
    {
     "name": "stdout",
     "output_type": "stream",
     "text": [
      "False\n",
      "True\n"
     ]
    }
   ],
   "source": [
    "#Equality Operator\n",
    "#Take two different float values.\n",
    "#Store them in two different variables.\n",
    "a = 51.5\n",
    "b = 61.6\n",
    "#Equuate them using equality operator (==, !=)\n",
    "\n",
    "#Observe the output(return type should be boolean)\n",
    "\n",
    "\n",
    "print(a==b)\n",
    "print(a!=b)"
   ]
  },
  {
   "cell_type": "code",
   "execution_count": 5,
   "id": "7bd931aa",
   "metadata": {},
   "outputs": [
    {
     "name": "stdout",
     "output_type": "stream",
     "text": [
      "20.3\n",
      "0.0\n",
      "0.0\n",
      "0.0\n",
      "10.2\n",
      "20.3\n",
      "20.3\n",
      "0.0\n",
      "False\n",
      "True\n"
     ]
    }
   ],
   "source": [
    "#Logical operators\n",
    "#Observe the output of below code\n",
    "#Cross check the output manually\n",
    "\n",
    "print(10.20 and 20.30)       #both are true and second value taken >Output is 20.3\n",
    "print(0.0 and 20.30)         #First is false so first value taken->Output is 0.0\n",
    "print(20.30 and 0.0)         #Goes to till second and second value is false so second is taken>Output is 0.0\n",
    "print(0.0 and 0.0)           #First is false so first value is taken->Output is 0.0\n",
    "\n",
    "print(10.20 or 20.30)        #First is True so first value is taken>Output is 10.2\n",
    "print(0.0 or 20.30)          #Goes to till second and second is true second value is taken->Output is 20.3\n",
    "print(20.30 or 0.0)          #First is True so first value is taken->Output is 20.3\n",
    "print(0.0 or 0.0)            #Goes to till second and secod is also false and second value is taken>Output is 0.0\n",
    "\n",
    "print(not 10.20)             #-Not of true is false->Output is False\n",
    "print(not 0.0)               #Not of false is True>Output is True"
   ]
  },
  {
   "cell_type": "code",
   "execution_count": 6,
   "id": "c8d7845f",
   "metadata": {},
   "outputs": [
    {
     "name": "stdout",
     "output_type": "stream",
     "text": [
      "False\n",
      "True\n"
     ]
    }
   ],
   "source": [
    "#What is the output of expression inside print statement. Cross check before running the program.\n",
    "a = 10.20\n",
    "b - 10.20\n",
    "print(a is b)          #True or False? True 10.20<256\n",
    "print(a is not b)      #True or False? False\n",
    "\n",
    "\n",
    "# Why the Id of float values are different when the same value is assigned to two different variables\n",
    "# ex: a = 35.7 b=198.98. but id will be same if I assign the variable having float i.e. a=c then both a anc c's\n",
    "# Id are same"
   ]
  },
  {
   "cell_type": "code",
   "execution_count": 7,
   "id": "d0678d99",
   "metadata": {},
   "outputs": [
    {
     "name": "stdout",
     "output_type": "stream",
     "text": [
      "True\n",
      "True\n",
      "True\n",
      "True\n",
      "True\n",
      "True\n"
     ]
    }
   ],
   "source": [
    "print('2.7' in 'Python2.7.8') #True\n",
    "print(10.20 in [10,10.20,10+20j,'Python']) #True\n",
    "print(10.20 in (10,10.20,10+20j,'Python')) # True\n",
    "print(20.30 in {1,20.30,30+40j}) # True\n",
    "print(2.3 in {1:100, 2.3:200, 30+40j:300}) # True\n",
    "print(10 in range(20)) # True"
   ]
  },
  {
   "cell_type": "markdown",
   "id": "f2545088",
   "metadata": {},
   "source": [
    "Name: Mihishkaa Sinha\n",
    "Contact no.: 6361960848"
   ]
  }
 ],
 "metadata": {
  "kernelspec": {
   "display_name": "Python 3 (ipykernel)",
   "language": "python",
   "name": "python3"
  },
  "language_info": {
   "codemirror_mode": {
    "name": "ipython",
    "version": 3
   },
   "file_extension": ".py",
   "mimetype": "text/x-python",
   "name": "python",
   "nbconvert_exporter": "python",
   "pygments_lexer": "ipython3",
   "version": "3.10.9"
  }
 },
 "nbformat": 4,
 "nbformat_minor": 5
}
