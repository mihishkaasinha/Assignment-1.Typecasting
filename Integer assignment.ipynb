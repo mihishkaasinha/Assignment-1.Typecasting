{
 "cells": [
  {
   "cell_type": "code",
   "execution_count": 15,
   "id": "2dc98793",
   "metadata": {},
   "outputs": [
    {
     "name": "stdout",
     "output_type": "stream",
     "text": [
      "<class 'int'> 1566734092656\n"
     ]
    }
   ],
   "source": [
    "int_var = int(69)\n",
    "print(type(int_var), id(int_var))"
   ]
  },
  {
   "cell_type": "code",
   "execution_count": 16,
   "id": "fe0bbbc7",
   "metadata": {},
   "outputs": [
    {
     "name": "stdout",
     "output_type": "stream",
     "text": [
      "1566734091536 1566734091536\n"
     ]
    }
   ],
   "source": [
    "val1 = int(34)\n",
    "val2 = int(34)\n",
    "print(id(val1), id(val2))"
   ]
  },
  {
   "cell_type": "markdown",
   "id": "0169892d",
   "metadata": {},
   "source": [
    "When starting up, the Python interpreter generates objects for numbers in the -5, 256 range and reuses them throughout programme execution.Because of this, if you assign several variables to an integer value inside this range, they will really correspond to the same object."
   ]
  },
  {
   "cell_type": "code",
   "execution_count": 17,
   "id": "0aecc81b",
   "metadata": {},
   "outputs": [
    {
     "name": "stdout",
     "output_type": "stream",
     "text": [
      "1566848170000 1566848166384\n"
     ]
    }
   ],
   "source": [
    "var1 = int(-43)\n",
    "var2 = int(-43)\n",
    "print(id(var1), id(var2))"
   ]
  },
  {
   "cell_type": "code",
   "execution_count": 21,
   "id": "efd1cc6d",
   "metadata": {},
   "outputs": [
    {
     "name": "stdout",
     "output_type": "stream",
     "text": [
      "Please enter the first number: 687\n",
      "Please enter the second number: 76\n",
      "The sum is:  763\n",
      "The difference is:  611\n",
      "The product is:  52212\n",
      "The value after dividing first no by second is:  9.039473684210526\n",
      "The remainder is:  3\n",
      "The quotient is: 9\n",
      "The result of the first no. power to the second is:  406173903309080052576552463545262817931084967727934347686711959878613040736280656439763525191004937398141470642879643180554731298164452124705203197559304101062033033922199627517336243847379391662965720831997884859841\n"
     ]
    }
   ],
   "source": [
    "no1 = int(input(\"Please enter the first number: \"))\n",
    "no2 = int(input(\"Please enter the second number: \"))\n",
    "print(\"The sum is: \", no1+no2)\n",
    "print(\"The difference is: \", no1-no2)\n",
    "print(\"The product is: \", no1*no2)\n",
    "print(\"The value after dividing first no by second is: \", no1/no2)\n",
    "print(\"The remainder is: \", no1%no2)\n",
    "print(\"The quotient is:\", no1//no2)\n",
    "print(\"The result of the first no. power to the second is: \", no1**no2)"
   ]
  },
  {
   "cell_type": "code",
   "execution_count": 20,
   "id": "7bd931aa",
   "metadata": {},
   "outputs": [
    {
     "name": "stdout",
     "output_type": "stream",
     "text": [
      "False\n",
      "True\n",
      "False\n",
      "True\n"
     ]
    }
   ],
   "source": [
    "value1 = 45\n",
    "value2 = 63\n",
    "print(value1>value2)\n",
    "print(value1<value2)\n",
    "print(value1>=value2)\n",
    "print(value1<=value2)"
   ]
  },
  {
   "cell_type": "code",
   "execution_count": 22,
   "id": "c8d7845f",
   "metadata": {},
   "outputs": [
    {
     "name": "stdout",
     "output_type": "stream",
     "text": [
      "False\n",
      "True\n"
     ]
    }
   ],
   "source": [
    "value1 = 78\n",
    "value2 = 11\n",
    "print(value1==value2)\n",
    "print(value1!=value2)"
   ]
  },
  {
   "cell_type": "code",
   "execution_count": 23,
   "id": "d0678d99",
   "metadata": {},
   "outputs": [
    {
     "name": "stdout",
     "output_type": "stream",
     "text": [
      "20\n",
      "0\n",
      "0\n",
      "0\n"
     ]
    }
   ],
   "source": [
    "print(10 and 20)\n",
    "print(0 and 20)\n",
    "print(20 and 0)\n",
    "print(0 and 0)"
   ]
  },
  {
   "cell_type": "code",
   "execution_count": 25,
   "id": "3c644be7",
   "metadata": {},
   "outputs": [
    {
     "name": "stdout",
     "output_type": "stream",
     "text": [
      "10\n",
      "20\n",
      "20\n",
      "0\n"
     ]
    }
   ],
   "source": [
    "print(10 or 20)\n",
    "print(0 or 20)\n",
    "print(20 or 0)\n",
    "print(0 or 0)"
   ]
  },
  {
   "cell_type": "code",
   "execution_count": 26,
   "id": "c360d5fc",
   "metadata": {},
   "outputs": [
    {
     "name": "stdout",
     "output_type": "stream",
     "text": [
      "False\n",
      "True\n"
     ]
    }
   ],
   "source": [
    "print(not 10)\n",
    "print(not 0)"
   ]
  },
  {
   "cell_type": "code",
   "execution_count": 30,
   "id": "fbd87b5c",
   "metadata": {},
   "outputs": [
    {
     "name": "stdout",
     "output_type": "stream",
     "text": [
      "0\n",
      "30\n",
      "30\n",
      "-11\n",
      "40\n",
      "2\n"
     ]
    }
   ],
   "source": [
    "print(10 & 20)\n",
    "print(10 | 20)\n",
    "print(10 ^ 20)\n",
    "print(~10)\n",
    "print(10<<2)\n",
    "print(10>>2)"
   ]
  },
  {
   "cell_type": "code",
   "execution_count": 32,
   "id": "784bb452",
   "metadata": {},
   "outputs": [
    {
     "name": "stdout",
     "output_type": "stream",
     "text": [
      "True\n",
      "False\n"
     ]
    }
   ],
   "source": [
    "a = 10\n",
    "b = 10\n",
    "print(a is b)\n",
    "print(a is not b)"
   ]
  },
  {
   "cell_type": "code",
   "execution_count": 34,
   "id": "f465227b",
   "metadata": {},
   "outputs": [
    {
     "name": "stdout",
     "output_type": "stream",
     "text": [
      "False\n",
      "True\n"
     ]
    }
   ],
   "source": [
    "a = 1000\n",
    "b = 1000\n",
    "print(a is b)\n",
    "print(a is not b)"
   ]
  },
  {
   "cell_type": "code",
   "execution_count": 37,
   "id": "e597c3ab",
   "metadata": {},
   "outputs": [
    {
     "name": "stdout",
     "output_type": "stream",
     "text": [
      "20\n"
     ]
    }
   ],
   "source": [
    "print(10+(10*32)//2**5&20+(~(-10))<<2)"
   ]
  },
  {
   "cell_type": "code",
   "execution_count": 39,
   "id": "edc38250",
   "metadata": {},
   "outputs": [
    {
     "name": "stdout",
     "output_type": "stream",
     "text": [
      "True\n",
      "True\n",
      "True\n",
      "True\n",
      "True\n",
      "True\n"
     ]
    }
   ],
   "source": [
    "print('2' in 'Python2.7.8')\n",
    "print(10 in [10,10.20,10+20j,'Python'])\n",
    "print(10 in (10,10.20,10+20j,'Python'))\n",
    "print(2 in {1,2,3})\n",
    "print(3 in {1:100, 2:200, 3:300})\n",
    "print(10 in range(20))"
   ]
  },
  {
   "cell_type": "code",
   "execution_count": 41,
   "id": "e6ea6680",
   "metadata": {},
   "outputs": [
    {
     "name": "stdout",
     "output_type": "stream",
     "text": [
      "0b1100100\n",
      "0o144\n",
      "0x64\n",
      "0b10011010010100\n",
      "0o23224\n",
      "0x2694\n"
     ]
    }
   ],
   "source": [
    "a = 100\n",
    "b = 100\n",
    "c = 100\n",
    "x = bin(a)\n",
    "y = oct(b)\n",
    "z = hex(c)\n",
    "print(x)\n",
    "print(y)\n",
    "print(z)\n",
    "d = 9876\n",
    "print(bin(d))\n",
    "print(oct(d))\n",
    "print(hex(d))"
   ]
  },
  {
   "cell_type": "code",
   "execution_count": 43,
   "id": "62273e06",
   "metadata": {},
   "outputs": [
    {
     "name": "stdout",
     "output_type": "stream",
     "text": [
      "80\n",
      "3870\n",
      "64222\n",
      "0b1010000\n",
      "0o7436\n",
      "0xfade\n",
      "0b1010000\n",
      "0b1111101011011110\n",
      "0o175336\n",
      "0o7436\n",
      "0x50\n",
      "0xfade\n"
     ]
    }
   ],
   "source": [
    "a = 0b1010000\n",
    "print (a)\n",
    "b = 0o7436\n",
    "print (b)\n",
    "c = 0xfade\n",
    "print (c)\n",
    "print ( bin ( 80 ))\n",
    "print ( oct ( 3870 ))\n",
    "print ( hex ( 64222 ))\n",
    "print ( bin ( 0b1010000))\n",
    "print ( bin ( 0xfade ))\n",
    "print ( oct ( 0xfade ))\n",
    "print ( oct ( 0o7436))\n",
    "print ( hex ( 0b1010000))\n",
    "print ( hex ( 0xfade ))"
   ]
  },
  {
   "cell_type": "markdown",
   "id": "74aac709",
   "metadata": {},
   "source": [
    "Name: Mihishkaa Sinha\n",
    "Contact no.: 6361960848"
   ]
  }
 ],
 "metadata": {
  "kernelspec": {
   "display_name": "Python 3 (ipykernel)",
   "language": "python",
   "name": "python3"
  },
  "language_info": {
   "codemirror_mode": {
    "name": "ipython",
    "version": 3
   },
   "file_extension": ".py",
   "mimetype": "text/x-python",
   "name": "python",
   "nbconvert_exporter": "python",
   "pygments_lexer": "ipython3",
   "version": "3.10.9"
  }
 },
 "nbformat": 4,
 "nbformat_minor": 5
}
